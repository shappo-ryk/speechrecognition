{
 "cells": [
  {
   "cell_type": "code",
   "execution_count": 16,
   "id": "c02341b1",
   "metadata": {},
   "outputs": [
    {
     "name": "stdout",
     "output_type": "stream",
     "text": [
      "Listening...\n",
      "ペタペタ\n"
     ]
    }
   ],
   "source": [
    "import speech_recognition as sr\n",
    "\n",
    "if __name__ == \"__main__\":\n",
    "    r = sr.Recognizer()\n",
    "    with sr.Microphone() as source:\n",
    "        r.adjust_for_ambient_noise(source)\n",
    "        print(\"Listening...\")\n",
    "        audio = r.listen(source)\n",
    "        try:\n",
    "            query = r.recognize_google(audio, language='ja-JP')\n",
    "            print(query)\n",
    "        except Exception:\n",
    "            print(\"Error\")"
   ]
  },
  {
   "cell_type": "code",
   "execution_count": null,
   "id": "05f10f5c",
   "metadata": {},
   "outputs": [
    {
     "name": "stdout",
     "output_type": "stream",
     "text": [
      "何かお話しして下さい。\n"
     ]
    }
   ],
   "source": [
    "import speech_recognition as sr\n",
    "import pyautogui \n",
    "import time\n",
    "import tkinter as tk\n",
    "\n",
    "\n",
    "root = tk.Tk()\n",
    "root.title(u\"HEROESLEAGUE\")#タイトル\n",
    "root.geometry(\"400x300\")#ウィンドウサイズ\n",
    "\n",
    "#ボタンを追加\n",
    "button = tk.Button(root, text=\"ボタン\", command=\"pushed\")\n",
    "\n",
    "\n",
    "#ボタン表示\n",
    "button.grid()\n",
    "\n",
    "root.mainloop()\n",
    "\n",
    "# 音声入力\n",
    "while True:\n",
    "    r = sr.Recognizer()\n",
    "    with sr.Microphone() as source:\n",
    "        print(\"何かお話しして下さい。\")\n",
    "        audio = r.listen(source)\n",
    " \n",
    "    try:\n",
    "        # Google Web Speech APIで音声認識\n",
    "        text = r.recognize_google(audio, language=\"ja-JP\")\n",
    "    except sr.UnknownValueError:\n",
    "        print(\"Google Web Speech APIは音声を認識できませんでした。\")\n",
    "    except sr.RequestError as e:\n",
    "        print(\"GoogleWeb Speech APIに音声認識を要求できませんでした;\"\n",
    "              \" {0}\".format(e))\n",
    "    else:\n",
    "        print(text)\n",
    "        # pyautogui.press('win')\n",
    "    if text ==\"コピコピ\":\n",
    "        pyautogui.press('win')\n",
    "      # pyautogui.hotkey('ctrl','c')\n",
    "    # elif text ==\"ペタペタ\":\n",
    "    #    pyautogui.hotkey('ctrl','v')     \n",
    "    if text == \"終わりだよ\":\n",
    "        break\n",
    "print(\"完了。\")"
   ]
  },
  {
   "cell_type": "code",
   "execution_count": null,
   "id": "303656c9",
   "metadata": {},
   "outputs": [],
   "source": []
  }
 ],
 "metadata": {
  "kernelspec": {
   "display_name": "Python 3",
   "language": "python",
   "name": "python3"
  },
  "language_info": {
   "codemirror_mode": {
    "name": "ipython",
    "version": 3
   },
   "file_extension": ".py",
   "mimetype": "text/x-python",
   "name": "python",
   "nbconvert_exporter": "python",
   "pygments_lexer": "ipython3",
   "version": "3.8.8"
  }
 },
 "nbformat": 4,
 "nbformat_minor": 5
}
